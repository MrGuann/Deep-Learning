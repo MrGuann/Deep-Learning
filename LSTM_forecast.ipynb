{
 "cells": [
  {
   "cell_type": "code",
   "execution_count": 53,
   "metadata": {
    "collapsed": true
   },
   "outputs": [],
   "source": [
    "import pandas as pd\n",
    "import numpy as np\n",
    "import tensorflow as tf\n",
    "import matplotlib.pyplot as plt"
   ]
  },
  {
   "cell_type": "code",
   "execution_count": 72,
   "metadata": {},
   "outputs": [],
   "source": [
    "#设置参数\n",
    "n_input = factors.shape[1] # 输入特征的个数\n",
    "n_steps = 10 # LSTM模式长度为10天，每个训练样本包含过去10天的数据\n",
    "n_hidden = 100 # 隐含层神经元数为每层100个\n",
    "n_layers = 1 #隐藏层数为2\n",
    "n_classes = 3  # 三个类别，下跌，震荡，上涨\n",
    "batch_size = 100 #单个训练批次样本数为100\n",
    "n_train_batch = 500 #训练多少个batch，要么设置n_train_batch，要么设置n_epochs\n",
    "#n_epochs = 10 #epoch的个数：整个训练数据循环多少次\n",
    "learning_rate = 0.001 #学习率为0.001\n",
    "keep_prob = 0.5 #dropout 0.5\n",
    "display_step = 10 #每训练多少个batch显示一次结果"
   ]
  },
  {
   "cell_type": "code",
   "execution_count": 73,
   "metadata": {},
   "outputs": [],
   "source": [
    "#构造dataset\n",
    "#读取数据\n",
    "data = pd.read_excel('AU.xlsx')\n",
    "factors = data.drop(['label'],axis = 1)\n",
    "#对label进行one-hot处理\n",
    "def to_categorical(y, num_classes=None):\n",
    "    y = np.array(y, dtype='int')\n",
    "    input_shape = y.shape\n",
    "    if input_shape and input_shape[-1] == 1 and len(input_shape) > 1:\n",
    "        input_shape = tuple(input_shape[:-1])\n",
    "    y = y.ravel()\n",
    "    if not num_classes:\n",
    "        num_classes = np.max(y) + 1\n",
    "    n = y.shape[0]\n",
    "    categorical = np.zeros((n, num_classes))\n",
    "    categorical[np.arange(n), y] = 1\n",
    "    output_shape = input_shape + (num_classes,)\n",
    "    categorical = np.reshape(categorical, output_shape)\n",
    "    return categorical\n",
    "\n",
    "label = to_categorical(list(data['label'].values))\n",
    "\n",
    "train_test_rate = 0.8 #训练与测试的比例\n",
    "input_data = []\n",
    "label_data = []\n",
    "for i in range(factors.shape[0]-n_steps-1):\n",
    "    input_data.append(factors[i:n_steps+i].values)  #每一个输入的维度为（10，20），包含过去10天信息\n",
    "    label_data.append(label[n_steps-1+i])  #每一个label的维度为（1,3）\n",
    "input_data = np.array(input_data)\n",
    "label_data = np.array(label_data)\n",
    "n_train = int(label_data.shape[0]*train_test_rate)\n",
    "train_x,test_x = input_data[:n_train],input_data[n_train:]\n",
    "train_y,test_y = label_data[:n_train],label_data[n_train:]"
   ]
  },
  {
   "cell_type": "code",
   "execution_count": 74,
   "metadata": {
    "collapsed": true
   },
   "outputs": [],
   "source": [
    "#构造输入输出以及batch\n",
    "tf.reset_default_graph()\n",
    "x = tf.placeholder(tf.float32, [None, n_steps, n_input])\n",
    "y = tf.placeholder(tf.float32, [None, n_classes])\n",
    "#将数据集转为tf.data.Dataset的形式方便batch和迭代\n",
    "train_dataset = tf.data.Dataset.from_tensor_slices((train_x, train_y)).batch(batch_size)\n",
    "train_dataset = train_dataset.repeat() #为了跑完一个epoch之后仍能正常读取数据\n",
    "iterator = train_dataset.make_one_shot_iterator()\n",
    "batch_dataset = iterator.get_next()"
   ]
  },
  {
   "cell_type": "code",
   "execution_count": 75,
   "metadata": {},
   "outputs": [],
   "source": [
    "#创建神经网络结构：2层神经网络\n",
    "def lstm_cell(): #创建一层神经网络 激活函数默认用tanh\n",
    "    global n_hidden\n",
    "    return tf.nn.rnn_cell.LSTMCell(n_hidden, forget_bias=1.0, name='basic_lstm_cell')\n",
    "def drop_out_lstm(): #添加dropout层\n",
    "    global keep_prob\n",
    "    return tf.contrib.rnn.DropoutWrapper(lstm_cell(), output_keep_prob = keep_prob)\n",
    "\n",
    "multi_cells = tf.contrib.rnn.MultiRNNCell([drop_out_lstm() for i in range(n_layers)])\n",
    "\n",
    "#动态多层\n",
    "outputs,states  = tf.nn.dynamic_rnn(multi_cells,x,dtype=tf.float32)#(?, 10, 200)\n",
    "outputs = tf.transpose(outputs, [1, 0, 2])#(10, ?, 200) 10个时序，取最后一个时序outputs[-1]=(?,200)\n",
    "#输出层 全连接\n",
    "pred = tf.contrib.layers.fully_connected(outputs[-1],n_classes,activation_fn = None)\n",
    "\n",
    "# 定义损失函数和优化器\n",
    "cost = tf.reduce_mean(tf.nn.softmax_cross_entropy_with_logits_v2(logits=pred, labels=y))\n",
    "#optimizer = tf.train.AdamOptimizer(learning_rate=learning_rate).minimize(cost)\n",
    "optimizer = tf.train.RMSPropOptimizer(learning_rate=learning_rate).minimize(cost) #论文用了RMSProp\n",
    "\n",
    "# 评价模型\n",
    "correct_pred = tf.equal(tf.argmax(pred,1), tf.argmax(y,1))\n",
    "accuracy = tf.reduce_mean(tf.cast(correct_pred, tf.float32))\n",
    "\n",
    "#保存模型\n",
    "#saver = tf.train.Saver() #max_to_keep默认为5，保存最近5个模型"
   ]
  },
  {
   "cell_type": "code",
   "execution_count": 76,
   "metadata": {},
   "outputs": [
    {
     "name": "stdout",
     "output_type": "stream",
     "text": [
      "Iter 0, Minibatch Loss= 1.152872, Training Accuracy= 0.22000\n",
      "Iter 10, Minibatch Loss= 1.129580, Training Accuracy= 0.29000\n",
      "Iter 20, Minibatch Loss= 1.162582, Training Accuracy= 0.38462\n",
      "Iter 30, Minibatch Loss= 1.084544, Training Accuracy= 0.38000\n",
      "Iter 40, Minibatch Loss= 1.031363, Training Accuracy= 0.48000\n",
      "Iter 50, Minibatch Loss= 0.968614, Training Accuracy= 0.46000\n",
      "Iter 60, Minibatch Loss= 1.001628, Training Accuracy= 0.47000\n",
      "Iter 70, Minibatch Loss= 0.942094, Training Accuracy= 0.53000\n",
      "Iter 80, Minibatch Loss= 1.049537, Training Accuracy= 0.50000\n",
      "Iter 90, Minibatch Loss= 0.951722, Training Accuracy= 0.53000\n",
      "Iter 100, Minibatch Loss= 1.009395, Training Accuracy= 0.52000\n",
      "Iter 110, Minibatch Loss= 0.959165, Training Accuracy= 0.44000\n",
      "Iter 120, Minibatch Loss= 1.041312, Training Accuracy= 0.38000\n",
      "Iter 130, Minibatch Loss= 0.836112, Training Accuracy= 0.48000\n",
      "Iter 140, Minibatch Loss= 0.887513, Training Accuracy= 0.46000\n",
      "Iter 150, Minibatch Loss= 0.909380, Training Accuracy= 0.46000\n",
      "Iter 160, Minibatch Loss= 0.863471, Training Accuracy= 0.52000\n",
      "Iter 170, Minibatch Loss= 0.785459, Training Accuracy= 0.57000\n",
      "Iter 180, Minibatch Loss= 0.868283, Training Accuracy= 0.49000\n",
      "Iter 190, Minibatch Loss= 0.848908, Training Accuracy= 0.55000\n",
      "Iter 200, Minibatch Loss= 0.965626, Training Accuracy= 0.41000\n",
      "Iter 210, Minibatch Loss= 0.844219, Training Accuracy= 0.53000\n",
      "Iter 220, Minibatch Loss= 0.836956, Training Accuracy= 0.52000\n",
      "Iter 230, Minibatch Loss= 1.001307, Training Accuracy= 0.53846\n",
      "Iter 240, Minibatch Loss= 0.952852, Training Accuracy= 0.48000\n",
      "Iter 250, Minibatch Loss= 0.926843, Training Accuracy= 0.55000\n",
      "Iter 260, Minibatch Loss= 0.942034, Training Accuracy= 0.52000\n",
      "Iter 270, Minibatch Loss= 0.968338, Training Accuracy= 0.50000\n",
      "Iter 280, Minibatch Loss= 0.943691, Training Accuracy= 0.55000\n",
      "Iter 290, Minibatch Loss= 0.998704, Training Accuracy= 0.48000\n",
      "Iter 300, Minibatch Loss= 0.957738, Training Accuracy= 0.51000\n",
      "Iter 310, Minibatch Loss= 0.966357, Training Accuracy= 0.54000\n",
      "Iter 320, Minibatch Loss= 0.914373, Training Accuracy= 0.54000\n",
      "Iter 330, Minibatch Loss= 1.027344, Training Accuracy= 0.50000\n",
      "Iter 340, Minibatch Loss= 0.830146, Training Accuracy= 0.54000\n",
      "Iter 350, Minibatch Loss= 0.893731, Training Accuracy= 0.51000\n",
      "Iter 360, Minibatch Loss= 0.903404, Training Accuracy= 0.52000\n",
      "Iter 370, Minibatch Loss= 0.848100, Training Accuracy= 0.52000\n",
      "Iter 380, Minibatch Loss= 0.735789, Training Accuracy= 0.59000\n",
      "Iter 390, Minibatch Loss= 0.855673, Training Accuracy= 0.52000\n",
      "Iter 400, Minibatch Loss= 0.816649, Training Accuracy= 0.54000\n",
      "Iter 410, Minibatch Loss= 0.942322, Training Accuracy= 0.56000\n",
      "Iter 420, Minibatch Loss= 0.816407, Training Accuracy= 0.57000\n",
      "Iter 430, Minibatch Loss= 0.810419, Training Accuracy= 0.57000\n",
      "Iter 440, Minibatch Loss= 0.922072, Training Accuracy= 0.53846\n",
      "Iter 450, Minibatch Loss= 0.960610, Training Accuracy= 0.49000\n",
      "Iter 460, Minibatch Loss= 0.864771, Training Accuracy= 0.58000\n",
      "Iter 470, Minibatch Loss= 0.906830, Training Accuracy= 0.47000\n",
      "Iter 480, Minibatch Loss= 0.967447, Training Accuracy= 0.49000\n",
      "Iter 490, Minibatch Loss= 0.913883, Training Accuracy= 0.55000\n",
      " Training Finished!\n",
      "Testing Accuracy: 0.46031746\n"
     ]
    }
   ],
   "source": [
    "with tf.Session() as sess:\n",
    "    sess.run(tf.global_variables_initializer())\n",
    "    list_acc,list_loss = [],[]\n",
    "    for i in range(n_train_batch):\n",
    "        batch_data = sess.run(batch_dataset)\n",
    "        batch_x, batch_y = batch_data[0],batch_data[1]\n",
    "        sess.run(optimizer, feed_dict={x: batch_data[0], y: batch_data[1]})\n",
    "        # 计算批次数据的准确率及损失\n",
    "        if i % display_step == 0:\n",
    "            acc = sess.run(accuracy, feed_dict={x: batch_data[0], y: batch_data[1]})\n",
    "            loss = sess.run(cost, feed_dict={x: batch_data[0], y: batch_data[1]})\n",
    "            list_acc.append(acc)\n",
    "            list_loss.append(loss)\n",
    "            print (\"Iter \" + str(i) + \", Minibatch Loss= \" + \\\n",
    "                      \"{:.6f}\".format(loss) + \", Training Accuracy= \" + \\\n",
    "                      \"{:.5f}\".format(acc))\n",
    "    print (\" Training Finished!\")\n",
    "    \n",
    "    print (\"Testing Accuracy:\", \\\n",
    "        sess.run(accuracy, feed_dict={x: test_x, y: test_y}))"
   ]
  },
  {
   "cell_type": "code",
   "execution_count": 77,
   "metadata": {},
   "outputs": [
    {
     "data": {
      "image/png": "[encoded data removed]",
      "text/plain": [
       "<matplotlib.figure.Figure at 0x17800b51048>"
      ]
     },
     "metadata": {},
     "output_type": "display_data"
    }
   ],
   "source": [
    "plt.figure(figsize = (15,8))\n",
    "plt.plot(list_acc,'r',label = 'acc')\n",
    "plt.plot(list_loss,'b',label = 'loss')\n",
    "plt.legend()\n",
    "plt.show()"
   ]
  },
  {
   "cell_type": "code",
   "execution_count": null,
   "metadata": {
    "collapsed": true
   },
   "outputs": [],
   "source": []
  }
 ],
 "metadata": {
  "kernelspec": {
   "display_name": "Python 3",
   "language": "python",
   "name": "python3"
  },
  "language_info": {
   "codemirror_mode": {
    "name": "ipython",
    "version": 3
   },
   "file_extension": ".py",
   "mimetype": "text/x-python",
   "name": "python",
   "nbconvert_exporter": "python",
   "pygments_lexer": "ipython3",
   "version": "3.6.3"
  },
  "varInspector": {
   "cols": {
    "lenName": 16,
    "lenType": 16,
    "lenVar": 40
   },
   "kernels_config": {
    "python": {
     "delete_cmd_postfix": "",
     "delete_cmd_prefix": "del ",
     "library": "var_list.py",
     "varRefreshCmd": "print(var_dic_list())"
    },
    "r": {
     "delete_cmd_postfix": ") ",
     "delete_cmd_prefix": "rm(",
     "library": "var_list.r",
     "varRefreshCmd": "cat(var_dic_list()) "
    }
   },
   "position": {
    "height": "144px",
    "left": "1167px",
    "right": "20px",
    "top": "120px",
    "width": "350px"
   },
   "types_to_exclude": [
    "module",
    "function",
    "builtin_function_or_method",
    "instance",
    "_Feature"
   ],
   "window_display": false
  }
 },
 "nbformat": 4,
 "nbformat_minor": 2
}
